{
 "cells": [
  {
   "cell_type": "code",
   "execution_count": 1,
   "metadata": {},
   "outputs": [],
   "source": [
    "from pprint import pprint\n",
    "from lensmodelapi.io import APIHierarchy"
   ]
  },
  {
   "cell_type": "code",
   "execution_count": 2,
   "metadata": {},
   "outputs": [],
   "source": [
    "decoder = APIHierarchy('api_input_file', indent=2)\n",
    "lens_universe = decoder.yaml_load()"
   ]
  },
  {
   "cell_type": "code",
   "execution_count": 3,
   "metadata": {
    "scrolled": true
   },
   "outputs": [
    {
     "name": "stdout",
     "output_type": "stream",
     "text": [
      "{'_api_inheritance': 'LensObject < APIBaseObject',\n",
      " 'data': <lensmodelapi.api.observation.Data object at 0x120961b50>,\n",
      " 'instrument': <lensmodelapi.api.observation.Instrument object at 0x120961e90>,\n",
      " 'lens_model': <lensmodelapi.api.lens_model.LensModel object at 0x120961f10>,\n",
      " 'name': 'My Favorite Lens ever',\n",
      " 'type': 'LensObject'}\n"
     ]
    }
   ],
   "source": [
    "lens_object = lens_universe.lens_sample[0]\n",
    "pprint(vars(lens_object))"
   ]
  },
  {
   "cell_type": "code",
   "execution_count": 4,
   "metadata": {},
   "outputs": [
    {
     "name": "stdout",
     "output_type": "stream",
     "text": [
      "{'_api_inheritance': 'LensModel < APIBaseObject',\n",
      " 'coordinates': <lensmodelapi.api.coordinates.Coordinates object at 0x120961fd0>,\n",
      " 'galaxies': [<lensmodelapi.api.galaxy.LensGalaxy object at 0x120968190>,\n",
      "              <lensmodelapi.api.galaxy.SourceGalaxy object at 0x1209682d0>,\n",
      "              <lensmodelapi.api.galaxy.SourceGalaxy object at 0x1209681d0>,\n",
      "              <lensmodelapi.api.galaxy.SourceGalaxy object at 0x120968390>],\n",
      " 'likelihoods': ['imaging_data'],\n",
      " 'regularizations': [<lensmodelapi.api.regularizations.pixelated.PixelStarlet object at 0x12096f210>,\n",
      "                     <lensmodelapi.api.regularizations.pixelated.PixelPositivity object at 0x12096f290>,\n",
      "                     <lensmodelapi.api.regularizations.pixelated.PixelCurvature object at 0x12096f310>,\n",
      "                     <lensmodelapi.api.regularizations.pixelated.PixelBLWavelet object at 0x12096f2d0>],\n",
      " 'type': 'LensModel'}\n"
     ]
    }
   ],
   "source": [
    "lens_model = lens_object.lens_model\n",
    "pprint(vars(lens_model))"
   ]
  },
  {
   "cell_type": "code",
   "execution_count": 5,
   "metadata": {},
   "outputs": [
    {
     "name": "stdout",
     "output_type": "stream",
     "text": [
      "{'_api_inheritance': 'LensGalaxy < Galaxy < APIBaseObject',\n",
      " 'light_model': <lensmodelapi.api.mass_light_model.LightModel object at 0x120968250>,\n",
      " 'mass_model': <lensmodelapi.api.mass_light_model.MassModel object at 0x120968290>,\n",
      " 'name': 'a lens galaxy',\n",
      " 'redshift': 0.5,\n",
      " 'type': 'LensGalaxy'}\n"
     ]
    }
   ],
   "source": [
    "lens_galaxy = lens_model.galaxies[0]\n",
    "pprint(vars(lens_galaxy))"
   ]
  },
  {
   "cell_type": "code",
   "execution_count": null,
   "metadata": {},
   "outputs": [],
   "source": []
  }
 ],
 "metadata": {
  "kernelspec": {
   "display_name": "py3jax",
   "language": "python",
   "name": "py3jax"
  },
  "language_info": {
   "codemirror_mode": {
    "name": "ipython",
    "version": 3
   },
   "file_extension": ".py",
   "mimetype": "text/x-python",
   "name": "python",
   "nbconvert_exporter": "python",
   "pygments_lexer": "ipython3",
   "version": "3.7.10"
  }
 },
 "nbformat": 4,
 "nbformat_minor": 2
}
